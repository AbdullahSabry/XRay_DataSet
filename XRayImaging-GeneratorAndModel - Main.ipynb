{
 "cells": [
  {
   "cell_type": "code",
   "execution_count": 1,
   "id": "b4527a35",
   "metadata": {},
   "outputs": [],
   "source": [
    "# Importing all the necessary libraries and modules for the notebook\n",
    "\n",
    "import time\n",
    "import datetime\n",
    "import seaborn as sns\n",
    "import tensorflow as tf\n",
    "import pandas as pd\n",
    "from PIL import Image\n",
    "import numpy as np\n",
    "import matplotlib.pyplot as plt\n",
    "import torch\n",
    "from sklearn.model_selection import train_test_split\n",
    "from sklearn.metrics import confusion_matrix\n",
    "from skimage import transform\n",
    "from skimage.color import rgb2gray\n",
    "import io\n",
    "import scipy.misc\n",
    "import imageio\n",
    "import csv\n",
    "import os\n",
    "import matplotlib\n",
    "from os import listdir"
   ]
  },
  {
   "cell_type": "code",
   "execution_count": 2,
   "id": "471bbe1a",
   "metadata": {},
   "outputs": [],
   "source": [
    "startTime = time.time()"
   ]
  },
  {
   "cell_type": "code",
   "execution_count": 3,
   "id": "2871bfa9",
   "metadata": {},
   "outputs": [],
   "source": [
    "# Reading the preprocessed data just to get the names of the columns needed to extract features from the .tfrec data set \n",
    "\n",
    "preprocessed_data_dir = r'E:\\DataSets\\ChestXRay\\preprocessed_data.csv'\n",
    "outputs = pd.read_csv(preprocessed_data_dir)"
   ]
  },
  {
   "cell_type": "code",
   "execution_count": 4,
   "id": "f8ab0ef1",
   "metadata": {},
   "outputs": [
    {
     "name": "stdout",
     "output_type": "stream",
     "text": [
      "Index(['No Finding', 'Atelectasis', 'Consolidation', 'Infiltration',\n",
      "       'Pneumothorax', 'Edema', 'Emphysema', 'Fibrosis', 'Effusion',\n",
      "       'Pneumonia', 'Pleural_Thickening', 'Cardiomegaly', 'Nodule', 'Mass',\n",
      "       'Hernia'],\n",
      "      dtype='object')\n"
     ]
    }
   ],
   "source": [
    "columns = outputs.columns[1:]\n",
    "print(columns)"
   ]
  },
  {
   "cell_type": "code",
   "execution_count": 5,
   "id": "a59187f0",
   "metadata": {},
   "outputs": [],
   "source": [
    "data_dir = r'E:\\DataSets\\ChestXRay\\data'\n",
    "file_names = listdir(data_dir)"
   ]
  },
  {
   "cell_type": "code",
   "execution_count": 6,
   "id": "9e8fe2cb",
   "metadata": {},
   "outputs": [],
   "source": [
    "# Making the feature map to extract the features\n",
    "\n",
    "feature_map = {}\n",
    "for label in list(columns):\n",
    "    feature_map[label] = tf.io.FixedLenFeature([], tf.int64)\n",
    "feature_map['image'] = tf.io.FixedLenFeature([], tf.string)\n"
   ]
  },
  {
   "cell_type": "code",
   "execution_count": 7,
   "id": "83f11bd3",
   "metadata": {},
   "outputs": [],
   "source": [
    "def parse_image_function(x):\n",
    "    return tf.io.parse_single_example(x, feature_map)"
   ]
  },
  {
   "cell_type": "code",
   "execution_count": 8,
   "id": "ac1e7bd9",
   "metadata": {},
   "outputs": [],
   "source": [
    "# Returns the images and labels associated with a certain .tfrec file name in the data set\n",
    "\n",
    "def read_images_labels(file_name):\n",
    "    parsed_file = tf.data.TFRecordDataset(os.path.join(data_dir, file_name)).map(parse_image_function)\n",
    "    images = []\n",
    "    labels = []\n",
    "    for image_features in parsed_file:\n",
    "        image = image_features['image']\n",
    "        image = tf.io.decode_jpeg(image_features['image'], channels = 1)\n",
    "        images.append(image)\n",
    "        label = []\n",
    "        for item in list(columns):\n",
    "            label.append(image_features[item])\n",
    "        labels.append(label)\n",
    "    return np.array(images), np.array(labels)"
   ]
  },
  {
   "cell_type": "code",
   "execution_count": 9,
   "id": "930051a8",
   "metadata": {},
   "outputs": [
    {
     "name": "stdout",
     "output_type": "stream",
     "text": [
      "Finished file 1 out of 256 files\n",
      "Finished file 2 out of 256 files\n",
      "Finished file 3 out of 256 files\n",
      "Finished file 4 out of 256 files\n",
      "Finished file 5 out of 256 files\n",
      "Finished file 6 out of 256 files\n",
      "Finished file 7 out of 256 files\n",
      "Finished file 8 out of 256 files\n",
      "Finished file 9 out of 256 files\n",
      "Finished file 10 out of 256 files\n",
      "Finished file 11 out of 256 files\n",
      "Finished file 12 out of 256 files\n",
      "Finished file 13 out of 256 files\n",
      "Finished file 14 out of 256 files\n",
      "Finished file 15 out of 256 files\n",
      "Finished file 16 out of 256 files\n",
      "Finished file 17 out of 256 files\n",
      "Finished file 18 out of 256 files\n",
      "Finished file 19 out of 256 files\n",
      "Finished file 20 out of 256 files\n",
      "Finished file 21 out of 256 files\n",
      "Finished file 22 out of 256 files\n",
      "Finished file 23 out of 256 files\n",
      "Finished file 24 out of 256 files\n",
      "Finished file 25 out of 256 files\n",
      "Finished file 26 out of 256 files\n",
      "Finished file 27 out of 256 files\n",
      "Finished file 28 out of 256 files\n",
      "Finished file 29 out of 256 files\n",
      "Finished file 30 out of 256 files\n",
      "Finished file 31 out of 256 files\n",
      "Finished file 32 out of 256 files\n",
      "Finished file 33 out of 256 files\n",
      "Finished file 34 out of 256 files\n",
      "Finished file 35 out of 256 files\n",
      "Finished file 36 out of 256 files\n",
      "Finished file 37 out of 256 files\n",
      "Finished file 38 out of 256 files\n",
      "Finished file 39 out of 256 files\n",
      "Finished file 40 out of 256 files\n",
      "Finished file 41 out of 256 files\n",
      "Finished file 42 out of 256 files\n",
      "Finished file 43 out of 256 files\n",
      "Finished file 44 out of 256 files\n",
      "Finished file 45 out of 256 files\n",
      "Finished file 46 out of 256 files\n",
      "Finished file 47 out of 256 files\n",
      "Finished file 48 out of 256 files\n",
      "Finished file 49 out of 256 files\n",
      "Finished file 50 out of 256 files\n",
      "Finished file 51 out of 256 files\n",
      "Finished file 52 out of 256 files\n",
      "Finished file 53 out of 256 files\n",
      "Finished file 54 out of 256 files\n",
      "Finished file 55 out of 256 files\n",
      "Finished file 56 out of 256 files\n",
      "Finished file 57 out of 256 files\n",
      "Finished file 58 out of 256 files\n",
      "Finished file 59 out of 256 files\n",
      "Finished file 60 out of 256 files\n",
      "Finished file 61 out of 256 files\n",
      "Finished file 62 out of 256 files\n",
      "Finished file 63 out of 256 files\n",
      "Finished file 64 out of 256 files\n",
      "Finished file 65 out of 256 files\n",
      "Finished file 66 out of 256 files\n",
      "Finished file 67 out of 256 files\n",
      "Finished file 68 out of 256 files\n",
      "Finished file 69 out of 256 files\n",
      "Finished file 70 out of 256 files\n",
      "Finished file 71 out of 256 files\n",
      "Finished file 72 out of 256 files\n",
      "Finished file 73 out of 256 files\n",
      "Finished file 74 out of 256 files\n",
      "Finished file 75 out of 256 files\n",
      "Finished file 76 out of 256 files\n",
      "Finished file 77 out of 256 files\n",
      "Finished file 78 out of 256 files\n",
      "Finished file 79 out of 256 files\n",
      "Finished file 80 out of 256 files\n",
      "Finished file 81 out of 256 files\n",
      "Finished file 82 out of 256 files\n",
      "Finished file 83 out of 256 files\n",
      "Finished file 84 out of 256 files\n",
      "Finished file 85 out of 256 files\n",
      "Finished file 86 out of 256 files\n",
      "Finished file 87 out of 256 files\n",
      "Finished file 88 out of 256 files\n",
      "Finished file 89 out of 256 files\n",
      "Finished file 90 out of 256 files\n",
      "Finished file 91 out of 256 files\n",
      "Finished file 92 out of 256 files\n",
      "Finished file 93 out of 256 files\n",
      "Finished file 94 out of 256 files\n",
      "Finished file 95 out of 256 files\n",
      "Finished file 96 out of 256 files\n",
      "Finished file 97 out of 256 files\n",
      "Finished file 98 out of 256 files\n",
      "Finished file 99 out of 256 files\n",
      "Finished file 100 out of 256 files\n",
      "Finished file 101 out of 256 files\n",
      "Finished file 102 out of 256 files\n",
      "Finished file 103 out of 256 files\n",
      "Finished file 104 out of 256 files\n",
      "Finished file 105 out of 256 files\n",
      "Finished file 106 out of 256 files\n",
      "Finished file 107 out of 256 files\n",
      "Finished file 108 out of 256 files\n",
      "Finished file 109 out of 256 files\n",
      "Finished file 110 out of 256 files\n",
      "Finished file 111 out of 256 files\n",
      "Finished file 112 out of 256 files\n",
      "Finished file 113 out of 256 files\n",
      "Finished file 114 out of 256 files\n",
      "Finished file 115 out of 256 files\n",
      "Finished file 116 out of 256 files\n",
      "Finished file 117 out of 256 files\n",
      "Finished file 118 out of 256 files\n",
      "Finished file 119 out of 256 files\n",
      "Finished file 120 out of 256 files\n",
      "Finished file 121 out of 256 files\n",
      "Finished file 122 out of 256 files\n",
      "Finished file 123 out of 256 files\n",
      "Finished file 124 out of 256 files\n",
      "Finished file 125 out of 256 files\n",
      "Finished file 126 out of 256 files\n",
      "Finished file 127 out of 256 files\n",
      "Finished file 128 out of 256 files\n",
      "Finished file 129 out of 256 files\n",
      "Finished file 130 out of 256 files\n",
      "Finished file 131 out of 256 files\n",
      "Finished file 132 out of 256 files\n",
      "Finished file 133 out of 256 files\n",
      "Finished file 134 out of 256 files\n",
      "Finished file 135 out of 256 files\n",
      "Finished file 136 out of 256 files\n",
      "Finished file 137 out of 256 files\n",
      "Finished file 138 out of 256 files\n",
      "Finished file 139 out of 256 files\n",
      "Finished file 140 out of 256 files\n",
      "Finished file 141 out of 256 files\n",
      "Finished file 142 out of 256 files\n",
      "Finished file 143 out of 256 files\n",
      "Finished file 144 out of 256 files\n",
      "Finished file 145 out of 256 files\n",
      "Finished file 146 out of 256 files\n",
      "Finished file 147 out of 256 files\n",
      "Finished file 148 out of 256 files\n",
      "Finished file 149 out of 256 files\n",
      "Finished file 150 out of 256 files\n",
      "Finished file 151 out of 256 files\n",
      "Finished file 152 out of 256 files\n",
      "Finished file 153 out of 256 files\n",
      "Finished file 154 out of 256 files\n",
      "Finished file 155 out of 256 files\n",
      "Finished file 156 out of 256 files\n",
      "Finished file 157 out of 256 files\n",
      "Finished file 158 out of 256 files\n",
      "Finished file 159 out of 256 files\n",
      "Finished file 160 out of 256 files\n",
      "Finished file 161 out of 256 files\n",
      "Finished file 162 out of 256 files\n",
      "Finished file 163 out of 256 files\n",
      "Finished file 164 out of 256 files\n",
      "Finished file 165 out of 256 files\n",
      "Finished file 166 out of 256 files\n",
      "Finished file 167 out of 256 files\n",
      "Finished file 168 out of 256 files\n",
      "Finished file 169 out of 256 files\n",
      "Finished file 170 out of 256 files\n",
      "Finished file 171 out of 256 files\n",
      "Finished file 172 out of 256 files\n",
      "Finished file 173 out of 256 files\n",
      "Finished file 174 out of 256 files\n",
      "Finished file 175 out of 256 files\n",
      "Finished file 176 out of 256 files\n",
      "Finished file 177 out of 256 files\n",
      "Finished file 178 out of 256 files\n",
      "Finished file 179 out of 256 files\n",
      "Finished file 180 out of 256 files\n",
      "Finished file 181 out of 256 files\n",
      "Finished file 182 out of 256 files\n",
      "Finished file 183 out of 256 files\n",
      "Finished file 184 out of 256 files\n",
      "Finished file 185 out of 256 files\n",
      "Finished file 186 out of 256 files\n",
      "Finished file 187 out of 256 files\n",
      "Finished file 188 out of 256 files\n",
      "Finished file 189 out of 256 files\n",
      "Finished file 190 out of 256 files\n",
      "Finished file 191 out of 256 files\n",
      "Finished file 192 out of 256 files\n",
      "Finished file 193 out of 256 files\n",
      "Finished file 194 out of 256 files\n",
      "Finished file 195 out of 256 files\n",
      "Finished file 196 out of 256 files\n",
      "Finished file 197 out of 256 files\n",
      "Finished file 198 out of 256 files\n",
      "Finished file 199 out of 256 files\n",
      "Finished file 200 out of 256 files\n",
      "Finished file 201 out of 256 files\n",
      "Finished file 202 out of 256 files\n",
      "Finished file 203 out of 256 files\n",
      "Finished file 204 out of 256 files\n",
      "Finished file 205 out of 256 files\n",
      "Finished file 206 out of 256 files\n",
      "Finished file 207 out of 256 files\n",
      "Finished file 208 out of 256 files\n",
      "Finished file 209 out of 256 files\n",
      "Finished file 210 out of 256 files\n",
      "Finished file 211 out of 256 files\n",
      "Finished file 212 out of 256 files\n",
      "Finished file 213 out of 256 files\n",
      "Finished file 214 out of 256 files\n",
      "Finished file 215 out of 256 files\n",
      "Finished file 216 out of 256 files\n",
      "Finished file 217 out of 256 files\n",
      "Finished file 218 out of 256 files\n",
      "Finished file 219 out of 256 files\n",
      "Finished file 220 out of 256 files\n",
      "Finished file 221 out of 256 files\n",
      "Finished file 222 out of 256 files\n",
      "Finished file 223 out of 256 files\n",
      "Finished file 224 out of 256 files\n",
      "Finished file 225 out of 256 files\n",
      "Finished file 226 out of 256 files\n",
      "Finished file 227 out of 256 files\n",
      "Finished file 228 out of 256 files\n",
      "Finished file 229 out of 256 files\n",
      "Finished file 230 out of 256 files\n",
      "Finished file 231 out of 256 files\n",
      "Finished file 232 out of 256 files\n",
      "Finished file 233 out of 256 files\n",
      "Finished file 234 out of 256 files\n",
      "Finished file 235 out of 256 files\n",
      "Finished file 236 out of 256 files\n",
      "Finished file 237 out of 256 files\n",
      "Finished file 238 out of 256 files\n"
     ]
    },
    {
     "name": "stdout",
     "output_type": "stream",
     "text": [
      "Finished file 239 out of 256 files\n",
      "Finished file 240 out of 256 files\n",
      "Finished file 241 out of 256 files\n",
      "Finished file 242 out of 256 files\n",
      "Finished file 243 out of 256 files\n",
      "Finished file 244 out of 256 files\n",
      "Finished file 245 out of 256 files\n",
      "Finished file 246 out of 256 files\n",
      "Finished file 247 out of 256 files\n",
      "Finished file 248 out of 256 files\n",
      "Finished file 249 out of 256 files\n",
      "Finished file 250 out of 256 files\n",
      "Finished file 251 out of 256 files\n",
      "Finished file 252 out of 256 files\n",
      "Finished file 253 out of 256 files\n",
      "Finished file 254 out of 256 files\n",
      "Finished file 255 out of 256 files\n",
      "Finished file 256 out of 256 files\n"
     ]
    }
   ],
   "source": [
    "# Converting the .tfrec to images and extracting the labels into a pandas dataframe\n",
    "\n",
    "i = 0\n",
    "img_dir = r'E:\\DataSets\\ChestXRay\\ImageData'\n",
    "data_frame_dir = r'E:\\DataSets\\ChestXRay\\Data.csv'\n",
    "all_labels = []\n",
    "for file_name in file_names:\n",
    "    currImages = []\n",
    "    currLabels = []\n",
    "    currImages, currLabels = read_images_labels(file_name)\n",
    "    for image in currImages:\n",
    "        img = Image.fromarray(np.squeeze(image, axis = 2), 'L')\n",
    "        img = img.resize((384, 384))\n",
    "        img.save(img_dir + \"\\\\\" + str(i) + \".jpeg\")\n",
    "        i = i + 1\n",
    "    for item in currLabels:\n",
    "        all_labels.append(item)\n",
    "    print(f\"Finished file {file_names.index(file_name) + 1} out of {len(file_names)} files\")"
   ]
  },
  {
   "cell_type": "code",
   "execution_count": 10,
   "id": "1e94161e",
   "metadata": {},
   "outputs": [],
   "source": [
    "df = pd.DataFrame(all_labels)\n",
    "df.to_csv(data_frame_dir)"
   ]
  },
  {
   "cell_type": "code",
   "execution_count": 11,
   "id": "3201e3b6",
   "metadata": {},
   "outputs": [],
   "source": [
    "columns = columns.insert(0, 'id')"
   ]
  },
  {
   "cell_type": "code",
   "execution_count": 12,
   "id": "d1c78898",
   "metadata": {},
   "outputs": [],
   "source": [
    "df = pd.read_csv(data_frame_dir)\n",
    "df.columns = columns\n",
    "df['id'] = [str(i) + '.jpeg' for i in range(len(df))] "
   ]
  },
  {
   "cell_type": "code",
   "execution_count": 13,
   "id": "334580cc",
   "metadata": {
    "scrolled": true
   },
   "outputs": [
    {
     "data": {
      "text/html": [
       "<div>\n",
       "<style scoped>\n",
       "    .dataframe tbody tr th:only-of-type {\n",
       "        vertical-align: middle;\n",
       "    }\n",
       "\n",
       "    .dataframe tbody tr th {\n",
       "        vertical-align: top;\n",
       "    }\n",
       "\n",
       "    .dataframe thead th {\n",
       "        text-align: right;\n",
       "    }\n",
       "</style>\n",
       "<table border=\"1\" class=\"dataframe\">\n",
       "  <thead>\n",
       "    <tr style=\"text-align: right;\">\n",
       "      <th></th>\n",
       "      <th>id</th>\n",
       "      <th>No Finding</th>\n",
       "      <th>Atelectasis</th>\n",
       "      <th>Consolidation</th>\n",
       "      <th>Infiltration</th>\n",
       "      <th>Pneumothorax</th>\n",
       "      <th>Edema</th>\n",
       "      <th>Emphysema</th>\n",
       "      <th>Fibrosis</th>\n",
       "      <th>Effusion</th>\n",
       "      <th>Pneumonia</th>\n",
       "      <th>Pleural_Thickening</th>\n",
       "      <th>Cardiomegaly</th>\n",
       "      <th>Nodule</th>\n",
       "      <th>Mass</th>\n",
       "      <th>Hernia</th>\n",
       "    </tr>\n",
       "  </thead>\n",
       "  <tbody>\n",
       "    <tr>\n",
       "      <th>0</th>\n",
       "      <td>0.jpeg</td>\n",
       "      <td>1</td>\n",
       "      <td>0</td>\n",
       "      <td>0</td>\n",
       "      <td>0</td>\n",
       "      <td>0</td>\n",
       "      <td>0</td>\n",
       "      <td>0</td>\n",
       "      <td>0</td>\n",
       "      <td>0</td>\n",
       "      <td>0</td>\n",
       "      <td>0</td>\n",
       "      <td>0</td>\n",
       "      <td>0</td>\n",
       "      <td>0</td>\n",
       "      <td>0</td>\n",
       "    </tr>\n",
       "    <tr>\n",
       "      <th>1</th>\n",
       "      <td>1.jpeg</td>\n",
       "      <td>0</td>\n",
       "      <td>0</td>\n",
       "      <td>0</td>\n",
       "      <td>1</td>\n",
       "      <td>0</td>\n",
       "      <td>0</td>\n",
       "      <td>0</td>\n",
       "      <td>0</td>\n",
       "      <td>0</td>\n",
       "      <td>0</td>\n",
       "      <td>0</td>\n",
       "      <td>0</td>\n",
       "      <td>1</td>\n",
       "      <td>1</td>\n",
       "      <td>0</td>\n",
       "    </tr>\n",
       "    <tr>\n",
       "      <th>2</th>\n",
       "      <td>2.jpeg</td>\n",
       "      <td>1</td>\n",
       "      <td>0</td>\n",
       "      <td>0</td>\n",
       "      <td>0</td>\n",
       "      <td>0</td>\n",
       "      <td>0</td>\n",
       "      <td>0</td>\n",
       "      <td>0</td>\n",
       "      <td>0</td>\n",
       "      <td>0</td>\n",
       "      <td>0</td>\n",
       "      <td>0</td>\n",
       "      <td>0</td>\n",
       "      <td>0</td>\n",
       "      <td>0</td>\n",
       "    </tr>\n",
       "    <tr>\n",
       "      <th>3</th>\n",
       "      <td>3.jpeg</td>\n",
       "      <td>1</td>\n",
       "      <td>0</td>\n",
       "      <td>0</td>\n",
       "      <td>0</td>\n",
       "      <td>0</td>\n",
       "      <td>0</td>\n",
       "      <td>0</td>\n",
       "      <td>0</td>\n",
       "      <td>0</td>\n",
       "      <td>0</td>\n",
       "      <td>0</td>\n",
       "      <td>0</td>\n",
       "      <td>0</td>\n",
       "      <td>0</td>\n",
       "      <td>0</td>\n",
       "    </tr>\n",
       "    <tr>\n",
       "      <th>4</th>\n",
       "      <td>4.jpeg</td>\n",
       "      <td>1</td>\n",
       "      <td>0</td>\n",
       "      <td>0</td>\n",
       "      <td>0</td>\n",
       "      <td>0</td>\n",
       "      <td>0</td>\n",
       "      <td>0</td>\n",
       "      <td>0</td>\n",
       "      <td>0</td>\n",
       "      <td>0</td>\n",
       "      <td>0</td>\n",
       "      <td>0</td>\n",
       "      <td>0</td>\n",
       "      <td>0</td>\n",
       "      <td>0</td>\n",
       "    </tr>\n",
       "  </tbody>\n",
       "</table>\n",
       "</div>"
      ],
      "text/plain": [
       "       id  No Finding  Atelectasis  Consolidation  Infiltration  Pneumothorax  \\\n",
       "0  0.jpeg           1            0              0             0             0   \n",
       "1  1.jpeg           0            0              0             1             0   \n",
       "2  2.jpeg           1            0              0             0             0   \n",
       "3  3.jpeg           1            0              0             0             0   \n",
       "4  4.jpeg           1            0              0             0             0   \n",
       "\n",
       "   Edema  Emphysema  Fibrosis  Effusion  Pneumonia  Pleural_Thickening  \\\n",
       "0      0          0         0         0          0                   0   \n",
       "1      0          0         0         0          0                   0   \n",
       "2      0          0         0         0          0                   0   \n",
       "3      0          0         0         0          0                   0   \n",
       "4      0          0         0         0          0                   0   \n",
       "\n",
       "   Cardiomegaly  Nodule  Mass  Hernia  \n",
       "0             0       0     0       0  \n",
       "1             0       1     1       0  \n",
       "2             0       0     0       0  \n",
       "3             0       0     0       0  \n",
       "4             0       0     0       0  "
      ]
     },
     "execution_count": 13,
     "metadata": {},
     "output_type": "execute_result"
    }
   ],
   "source": [
    "df.head()"
   ]
  },
  {
   "cell_type": "code",
   "execution_count": 14,
   "id": "b0e1a655",
   "metadata": {},
   "outputs": [],
   "source": [
    "# Plotting a pie chart for the labeled data to visualize it\n",
    "\n",
    "label_data = []\n",
    "i = 0\n",
    "for column in columns[1:]:\n",
    "    for item in df[column]:\n",
    "        if item != 0:\n",
    "            i += 1\n",
    "    label_data.append(i)\n",
    "    i = 0"
   ]
  },
  {
   "cell_type": "code",
   "execution_count": 15,
   "id": "09944e94",
   "metadata": {},
   "outputs": [
    {
     "data": {
      "image/png": "[encoded data removed]",
      "text/plain": [
       "<Figure size 432x288 with 1 Axes>"
      ]
     },
     "metadata": {},
     "output_type": "display_data"
    }
   ],
   "source": [
    "plt.pie(label_data, labels = columns[1:], radius = 3, autopct='%1.1f%%')\n",
    "plt.show()"
   ]
  },
  {
   "cell_type": "code",
   "execution_count": null,
   "id": "9d5f3984",
   "metadata": {},
   "outputs": [],
   "source": []
  },
  {
   "cell_type": "code",
   "execution_count": 16,
   "id": "9a7b284d",
   "metadata": {},
   "outputs": [],
   "source": [
    "# Creating the generator and splitting the dataframe for training and testing (The data is homogeneous and isotropic)\n",
    "\n",
    "from keras_preprocessing.image import ImageDataGenerator"
   ]
  },
  {
   "cell_type": "code",
   "execution_count": 17,
   "id": "17c5db0d",
   "metadata": {},
   "outputs": [],
   "source": [
    "traindf = (df[:100000])"
   ]
  },
  {
   "cell_type": "code",
   "execution_count": 18,
   "id": "25addd5c",
   "metadata": {},
   "outputs": [],
   "source": [
    "testdf = (df[100000:])"
   ]
  },
  {
   "cell_type": "code",
   "execution_count": 19,
   "id": "53adbe7e",
   "metadata": {},
   "outputs": [
    {
     "data": {
      "text/plain": [
       "id                    object\n",
       "No Finding             int64\n",
       "Atelectasis            int64\n",
       "Consolidation          int64\n",
       "Infiltration           int64\n",
       "Pneumothorax           int64\n",
       "Edema                  int64\n",
       "Emphysema              int64\n",
       "Fibrosis               int64\n",
       "Effusion               int64\n",
       "Pneumonia              int64\n",
       "Pleural_Thickening     int64\n",
       "Cardiomegaly           int64\n",
       "Nodule                 int64\n",
       "Mass                   int64\n",
       "Hernia                 int64\n",
       "dtype: object"
      ]
     },
     "execution_count": 19,
     "metadata": {},
     "output_type": "execute_result"
    }
   ],
   "source": [
    "df.dtypes"
   ]
  },
  {
   "cell_type": "code",
   "execution_count": 20,
   "id": "b5e92189",
   "metadata": {},
   "outputs": [],
   "source": [
    "datagen = ImageDataGenerator(validation_split = 0.2)"
   ]
  },
  {
   "cell_type": "code",
   "execution_count": 21,
   "id": "5cf52c4d",
   "metadata": {},
   "outputs": [
    {
     "name": "stdout",
     "output_type": "stream",
     "text": [
      "Found 80000 validated image filenames.\n"
     ]
    }
   ],
   "source": [
    "train_generator = datagen.flow_from_dataframe(\n",
    "    dataframe = traindf,\n",
    "    directory = \"E:\\DataSets\\ChestXRay\\ImageData\",\n",
    "    x_col = 'id',\n",
    "    y_col = columns[1:],\n",
    "    batch_size = 32,\n",
    "    seed = 42,\n",
    "    shuffle = True,\n",
    "    subset = 'training',\n",
    "    class_mode = 'raw',\n",
    "    target_size = (384, 384)\n",
    ")"
   ]
  },
  {
   "cell_type": "code",
   "execution_count": 22,
   "id": "10020a72",
   "metadata": {},
   "outputs": [
    {
     "name": "stdout",
     "output_type": "stream",
     "text": [
      "Found 20000 validated image filenames.\n"
     ]
    }
   ],
   "source": [
    "valid_generator = datagen.flow_from_dataframe(\n",
    "    dataframe = traindf,\n",
    "    directory = \"E:\\DataSets\\ChestXRay\\ImageData\",\n",
    "    x_col = 'id',\n",
    "    y_col = columns[1:],\n",
    "    batch_size = 32,\n",
    "    seed = 42,\n",
    "    shuffle = True,\n",
    "    subset = 'validation',\n",
    "    class_mode = 'raw',\n",
    "    target_size = (384, 384)\n",
    ")"
   ]
  },
  {
   "cell_type": "code",
   "execution_count": 23,
   "id": "7524d101",
   "metadata": {},
   "outputs": [
    {
     "name": "stdout",
     "output_type": "stream",
     "text": [
      "Found 12120 validated image filenames.\n"
     ]
    }
   ],
   "source": [
    "test_generator = ImageDataGenerator().flow_from_dataframe(\n",
    "    dataframe = testdf,\n",
    "    directory = \"E:\\DataSets\\ChestXRay\\ImageData\",\n",
    "    x_col = 'id',\n",
    "    y_col = columns[1:],\n",
    "    batch_size = 32,\n",
    "    seed=42,\n",
    "    shuffle=False,\n",
    "    class_mode='raw',\n",
    "    target_size = (384, 384)\n",
    ")"
   ]
  },
  {
   "cell_type": "code",
   "execution_count": 24,
   "id": "d001e9a9",
   "metadata": {},
   "outputs": [],
   "source": [
    "# Importing model libraries and creating it\n",
    "\n",
    "from tensorflow.keras import layers\n",
    "from tensorflow.keras.layers import Conv2D\n",
    "from tensorflow.keras.layers import Flatten\n",
    "from tensorflow.keras.layers import MaxPooling2D\n",
    "from tensorflow.keras.layers import Dropout\n",
    "from tensorflow.keras.layers import GlobalAveragePooling2D\n",
    "from tensorflow.keras.layers import BatchNormalization\n",
    "from tensorflow.keras.layers import Dense\n",
    "from tensorflow.keras.models import Sequential\n",
    "from tensorflow.keras.applications.efficientnet import EfficientNetB1"
   ]
  },
  {
   "cell_type": "code",
   "execution_count": 25,
   "id": "5b52c051",
   "metadata": {},
   "outputs": [
    {
     "name": "stdout",
     "output_type": "stream",
     "text": [
      "Model: \"sequential\"\n",
      "_________________________________________________________________\n",
      "Layer (type)                 Output Shape              Param #   \n",
      "=================================================================\n",
      "efficientnetb1 (Functional)  (None, 12, 12, 1280)      6575239   \n",
      "_________________________________________________________________\n",
      "global_average_pooling2d (Gl (None, 1280)              0         \n",
      "_________________________________________________________________\n",
      "flatten (Flatten)            (None, 1280)              0         \n",
      "_________________________________________________________________\n",
      "dense (Dense)                (None, 2048)              2623488   \n",
      "_________________________________________________________________\n",
      "dropout (Dropout)            (None, 2048)              0         \n",
      "_________________________________________________________________\n",
      "dense_1 (Dense)              (None, 1024)              2098176   \n",
      "_________________________________________________________________\n",
      "dropout_1 (Dropout)          (None, 1024)              0         \n",
      "_________________________________________________________________\n",
      "dense_2 (Dense)              (None, 512)               524800    \n",
      "_________________________________________________________________\n",
      "dropout_2 (Dropout)          (None, 512)               0         \n",
      "_________________________________________________________________\n",
      "dense_3 (Dense)              (None, 15)                7695      \n",
      "=================================================================\n",
      "Total params: 11,829,398\n",
      "Trainable params: 5,254,159\n",
      "Non-trainable params: 6,575,239\n",
      "_________________________________________________________________\n"
     ]
    }
   ],
   "source": [
    "eff = EfficientNetB1(include_top = False, input_shape = (384, 384, 3))\n",
    "for layer in eff.layers:\n",
    "    layer.trainable = False\n",
    "\n",
    "model = Sequential()\n",
    "model.add(eff)\n",
    "model.add(GlobalAveragePooling2D())\n",
    "model.add(layers.Flatten())\n",
    "model.add(Dense(2048, activation = 'relu'))\n",
    "model.add(Dropout(0.2))\n",
    "model.add(Dense(1024, activation = 'relu'))\n",
    "model.add(Dropout(0.2))\n",
    "model.add(Dense(512, activation = 'relu'))\n",
    "model.add(Dropout(0.2))\n",
    "model.add(Dense(15, activation = 'softmax'))\n",
    "model.summary()"
   ]
  },
  {
   "cell_type": "code",
   "execution_count": 26,
   "id": "2043a1ce",
   "metadata": {},
   "outputs": [],
   "source": [
    "model.compile(optimizer = 'adam', loss = tf.keras.losses.MeanSquaredError(), metrics = [tf.keras.metrics.AUC(name=\"auc\"), 'accuracy'])"
   ]
  },
  {
   "cell_type": "code",
   "execution_count": 27,
   "id": "2f4ce287",
   "metadata": {},
   "outputs": [],
   "source": [
    "# Using callbacks to help the training process\n",
    "\n",
    "from tensorflow.keras import callbacks\n",
    "plateau = callbacks.ReduceLROnPlateau(monitor='val_loss',\n",
    "                                     patience = 1,\n",
    "                                     factor = 0.01,\n",
    "                                     min_lr = 0.0001,\n",
    "                                     mode = 'min')\n",
    "\n",
    "early_stopping = callbacks.EarlyStopping(monitor = 'val_loss',\n",
    "                                        patience = 2,\n",
    "                                        restore_best_weights=True,\n",
    "                                        mode = 'max')"
   ]
  },
  {
   "cell_type": "code",
   "execution_count": null,
   "id": "d0a80ce9",
   "metadata": {},
   "outputs": [],
   "source": []
  },
  {
   "cell_type": "code",
   "execution_count": 28,
   "id": "b377d9b1",
   "metadata": {},
   "outputs": [],
   "source": [
    "accuracy = []\n",
    "loss = []\n",
    "val_accuracy = []\n",
    "val_loss = []\n",
    "nepochs = 5"
   ]
  },
  {
   "cell_type": "code",
   "execution_count": 29,
   "id": "978d0ef2",
   "metadata": {},
   "outputs": [
    {
     "data": {
      "text/plain": [
       "[PhysicalDevice(name='/physical_device:CPU:0', device_type='CPU'),\n",
       " PhysicalDevice(name='/physical_device:GPU:0', device_type='GPU')]"
      ]
     },
     "execution_count": 29,
     "metadata": {},
     "output_type": "execute_result"
    }
   ],
   "source": [
    "tf.config.list_physical_devices()"
   ]
  },
  {
   "cell_type": "code",
   "execution_count": 30,
   "id": "facb6cc3",
   "metadata": {
    "scrolled": false
   },
   "outputs": [
    {
     "name": "stdout",
     "output_type": "stream",
     "text": [
      "Epoch 1/5\n",
      "2500/2500 [==============================] - 1531s 608ms/step - loss: 0.0576 - auc: 0.8486 - accuracy: 0.5281 - val_loss: 0.0560 - val_auc: 0.8534 - val_accuracy: 0.5378\n",
      "Epoch 2/5\n",
      "2500/2500 [==============================] - 544s 217ms/step - loss: 0.0566 - auc: 0.8547 - accuracy: 0.5319 - val_loss: 0.0558 - val_auc: 0.8590 - val_accuracy: 0.5422\n",
      "Epoch 3/5\n",
      "2500/2500 [==============================] - 543s 217ms/step - loss: 0.0563 - auc: 0.8572 - accuracy: 0.5336 - val_loss: 0.0552 - val_auc: 0.8640 - val_accuracy: 0.5367\n"
     ]
    }
   ],
   "source": [
    "# ssTrain = StepSizeTrain, the step size for each training batch in the generator\n",
    "\n",
    "ssTrain = train_generator.n//train_generator.batch_size\n",
    "ssValid = valid_generator.n//valid_generator.batch_size\n",
    "ssTest = test_generator.n//test_generator.batch_size\n",
    "\n",
    "history = model.fit(\n",
    "    train_generator,\n",
    "    epochs = nepochs,\n",
    "    callbacks=[plateau, early_stopping],\n",
    "    steps_per_epoch = ssTrain,\n",
    "    validation_steps = ssValid,\n",
    "    validation_data = valid_generator\n",
    ")\n",
    "accuracy.append(history.history['accuracy'][i] for i in range(nepochs))\n",
    "loss.append(history.history['loss'][i] for i in range(nepochs))\n",
    "val_accuracy.append(history.history['val_accuracy'][i] for i in range(nepochs))\n",
    "val_loss.append(history.history['val_loss'][i] for i in range(nepochs))\n"
   ]
  },
  {
   "cell_type": "code",
   "execution_count": 31,
   "id": "d26f35da",
   "metadata": {},
   "outputs": [
    {
     "name": "stdout",
     "output_type": "stream",
     "text": [
      "625/625 [==============================] - 106s 170ms/step - loss: 0.0560 - auc: 0.8534 - accuracy: 0.5378\n"
     ]
    },
    {
     "data": {
      "text/plain": [
       "[0.056030333042144775, 0.8533989191055298, 0.5377500057220459]"
      ]
     },
     "execution_count": 31,
     "metadata": {},
     "output_type": "execute_result"
    }
   ],
   "source": [
    "model.evaluate(valid_generator, steps=ssValid)"
   ]
  },
  {
   "cell_type": "code",
   "execution_count": 32,
   "id": "49b6aa9f",
   "metadata": {},
   "outputs": [
    {
     "name": "stdout",
     "output_type": "stream",
     "text": [
      "378/378 [==============================] - 65s 172ms/step - loss: 0.0564 - auc: 0.8521 - accuracy: 0.5396\n"
     ]
    },
    {
     "data": {
      "text/plain": [
       "[0.056367017328739166, 0.8520988821983337, 0.5395998954772949]"
      ]
     },
     "execution_count": 32,
     "metadata": {},
     "output_type": "execute_result"
    }
   ],
   "source": [
    "model.evaluate(test_generator, steps = ssTest)"
   ]
  },
  {
   "cell_type": "code",
   "execution_count": 33,
   "id": "381493c6",
   "metadata": {
    "scrolled": true
   },
   "outputs": [],
   "source": [
    "pred = model.predict(test_generator)"
   ]
  },
  {
   "cell_type": "code",
   "execution_count": 34,
   "id": "6b949fe2",
   "metadata": {},
   "outputs": [],
   "source": [
    "pred = np.argmax(pred, axis = 1)\n"
   ]
  },
  {
   "cell_type": "code",
   "execution_count": 35,
   "id": "8af2a19c",
   "metadata": {},
   "outputs": [
    {
     "name": "stdout",
     "output_type": "stream",
     "text": [
      "[0 0 0 ... 0 8 0]\n"
     ]
    }
   ],
   "source": [
    "print(pred)"
   ]
  },
  {
   "cell_type": "code",
   "execution_count": 36,
   "id": "b512f868",
   "metadata": {},
   "outputs": [],
   "source": [
    "new_test_df = df[100000:]"
   ]
  },
  {
   "cell_type": "code",
   "execution_count": 37,
   "id": "8295d75b",
   "metadata": {},
   "outputs": [
    {
     "name": "stdout",
     "output_type": "stream",
     "text": [
      "[0 0 1 ... 0 8 0]\n"
     ]
    }
   ],
   "source": [
    "actual = []\n",
    "for i in range(len(new_test_df)):\n",
    "    actual.append(list((new_test_df.iloc[i]))[1:])\n",
    "actual = np.argmax(actual, axis = 1)\n",
    "print(actual)"
   ]
  },
  {
   "cell_type": "code",
   "execution_count": 38,
   "id": "2c42bd66",
   "metadata": {},
   "outputs": [
    {
     "name": "stdout",
     "output_type": "stream",
     "text": [
      "12120\n",
      "12120\n"
     ]
    }
   ],
   "source": [
    "print(len(pred))\n",
    "print(len(actual))"
   ]
  },
  {
   "cell_type": "code",
   "execution_count": 39,
   "id": "ef91f731",
   "metadata": {},
   "outputs": [],
   "source": [
    "cf_matrix = confusion_matrix(pred, actual, normalize = 'true')"
   ]
  },
  {
   "cell_type": "code",
   "execution_count": 40,
   "id": "10fc282b",
   "metadata": {
    "scrolled": false
   },
   "outputs": [
    {
     "data": {
      "text/plain": [
       "<AxesSubplot:>"
      ]
     },
     "execution_count": 40,
     "metadata": {},
     "output_type": "execute_result"
    },
    {
     "data": {
      "image/png": "[encoded data removed]",
      "text/plain": [
       "<Figure size 720x432 with 2 Axes>"
      ]
     },
     "metadata": {
      "needs_background": "light"
     },
     "output_type": "display_data"
    }
   ],
   "source": [
    "plt.figure(figsize = (10, 6))\n",
    "sns.heatmap(cf_matrix, cmap = 'Blues')"
   ]
  },
  {
   "cell_type": "code",
   "execution_count": 41,
   "id": "3484efd9",
   "metadata": {},
   "outputs": [],
   "source": [
    "endTime = time.time()"
   ]
  },
  {
   "cell_type": "code",
   "execution_count": 42,
   "id": "8b09e476",
   "metadata": {},
   "outputs": [
    {
     "name": "stdout",
     "output_type": "stream",
     "text": [
      "Total elapsed time is 0:58:20.389289\n"
     ]
    }
   ],
   "source": [
    "print(f\"Total elapsed time is {datetime.timedelta(seconds = endTime - startTime)}\")"
   ]
  }
 ],
 "metadata": {
  "kernelspec": {
   "display_name": "Python 3",
   "language": "python",
   "name": "python3"
  },
  "language_info": {
   "codemirror_mode": {
    "name": "ipython",
    "version": 3
   },
   "file_extension": ".py",
   "mimetype": "text/x-python",
   "name": "python",
   "nbconvert_exporter": "python",
   "pygments_lexer": "ipython3",
   "version": "3.8.8"
  }
 },
 "nbformat": 4,
 "nbformat_minor": 5
}
